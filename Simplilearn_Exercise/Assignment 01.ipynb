{
 "cells": [
  {
   "cell_type": "markdown",
   "metadata": {},
   "source": [
    "<img src=\"http://cfs22.simplicdn.net/ice9/new_logo.svgz \"/>\n",
    "\n",
    "# Assignment 01: Evaluate the GDP Dataset\n",
    "\n",
    "*The comments/sections provided are your cues to perform the assignment. You don't need to limit yourself to the number of rows/cells provided. You can add additional rows in each section to add more lines of code.*\n",
    "\n",
    "*If at any point in time you need help on solving this assignment, view our demo video to understand the different steps of the code.*\n",
    "\n",
    "**Happy coding!**\n",
    "\n",
    "* * *"
   ]
  },
  {
   "cell_type": "markdown",
   "metadata": {},
   "source": [
    "#### 1: View and add the dataset"
   ]
  },
  {
   "cell_type": "code",
   "execution_count": 1,
   "metadata": {},
   "outputs": [],
   "source": [
    "#Import required library\n",
    "import numpy as np"
   ]
  },
  {
   "cell_type": "code",
   "execution_count": 2,
   "metadata": {},
   "outputs": [],
   "source": [
    "#Manually add the dataset\n",
    "countries = np.array(['Algeria','Angola','Argentina','Australia','Austria','Bahamas','Bangladesh','Belarus','Belgium','Bhutan','Brazil','Bulgaria','Cambodia','Cameroon','Chile','China','Colombia','Cyprus','Denmark','El Salvador','Estonia','Ethiopia',\n",
    "                      'Fiji','Finland','France','Georgia','Ghana','Grenada','Guinea','Haiti','Honduras','Hungary','India','Indonesia','Ireland','Italy','Japan','Kenya', 'South Korea','Liberia','Malaysia','Mexico', 'Morocco','Nepal',\n",
    "                      'New Zealand','Norway','Pakistan', 'Peru','Qatar','Russia','Singapore','South Africa','Spain','Sweden','Switzerland','Thailand', 'United Arab Emirates','United Kingdom','United States','Uruguay','Venezuela','Vietnam','Zimbabwe'])\n",
    "GDP = np.array([2255.225482,629.9553062,11601.63022,25306.82494,27266.40335,19466.99052,588.3691778,\n",
    "                2890.345675,24733.62696,1445.760002,4803.398244,2618.876037,590.4521124,665.7982328,\n",
    "                7122.938458,2639.54156,3362.4656,15378.16704,30860.12808,2579.115607,6525.541272,\n",
    "                229.6769525,2242.689259,27570.4852,23016.84778,1334.646773,402.6953275,6047.200797,\n",
    "                394.1156638,385.5793827,1414.072488,5745.981529,837.7464011,1206.991065,27715.52837,\n",
    "                18937.24998,39578.07441,478.2194906,16684.21278,279.2204061,5345.213415,6288.25324,1908.304416,274.8728621,14646.42094,40034.85063,672.1547506,3359.517402,36152.66676,3054.727742,33529.83052,3825.093781,15428.32098,33630.24604,39170.41371,2699.123242,21058.43643,28272.40661,37691.02733,9581.05659,5671.912202,757.4009286,347.7456605])\n"
   ]
  },
  {
   "cell_type": "markdown",
   "metadata": {
    "collapsed": true
   },
   "source": [
    "#### 2: Find and print the name of the country with the highest GDP"
   ]
  },
  {
   "cell_type": "code",
   "execution_count": 3,
   "metadata": {},
   "outputs": [
    {
     "data": {
      "text/plain": [
       "45"
      ]
     },
     "execution_count": 3,
     "metadata": {},
     "output_type": "execute_result"
    }
   ],
   "source": [
    "#Use the argmax() method to find the highest GDP\n",
    "GDP.argmax()"
   ]
  },
  {
   "cell_type": "code",
   "execution_count": 4,
   "metadata": {},
   "outputs": [
    {
     "data": {
      "text/plain": [
       "'Norway'"
      ]
     },
     "execution_count": 4,
     "metadata": {},
     "output_type": "execute_result"
    }
   ],
   "source": [
    "#Print the name of the country\n",
    "countries[45]"
   ]
  },
  {
   "cell_type": "markdown",
   "metadata": {},
   "source": [
    "#### 3: Find and print the name of the country with the lowest GDP"
   ]
  },
  {
   "cell_type": "code",
   "execution_count": 5,
   "metadata": {},
   "outputs": [
    {
     "data": {
      "text/plain": [
       "21"
      ]
     },
     "execution_count": 5,
     "metadata": {},
     "output_type": "execute_result"
    }
   ],
   "source": [
    "#Use the argmin() method to find the lowest GDP\n",
    "GDP.argmin()"
   ]
  },
  {
   "cell_type": "code",
   "execution_count": 6,
   "metadata": {},
   "outputs": [
    {
     "data": {
      "text/plain": [
       "'Ethiopia'"
      ]
     },
     "execution_count": 6,
     "metadata": {},
     "output_type": "execute_result"
    }
   ],
   "source": [
    "#Print the name of the country\n",
    "countries[21]"
   ]
  },
  {
   "cell_type": "markdown",
   "metadata": {},
   "source": [
    "#### 4: Print out text ('evaluating country') and input value ('country name') iteratively"
   ]
  },
  {
   "cell_type": "code",
   "execution_count": 7,
   "metadata": {},
   "outputs": [
    {
     "name": "stdout",
     "output_type": "stream",
     "text": [
      "evaluating country Algeria\n",
      "evaluating country Angola\n",
      "evaluating country Argentina\n",
      "evaluating country Australia\n",
      "evaluating country Austria\n",
      "evaluating country Bahamas\n",
      "evaluating country Bangladesh\n",
      "evaluating country Belarus\n",
      "evaluating country Belgium\n",
      "evaluating country Bhutan\n",
      "evaluating country Brazil\n",
      "evaluating country Bulgaria\n",
      "evaluating country Cambodia\n",
      "evaluating country Cameroon\n",
      "evaluating country Chile\n",
      "evaluating country China\n",
      "evaluating country Colombia\n",
      "evaluating country Cyprus\n",
      "evaluating country Denmark\n",
      "evaluating country El Salvador\n",
      "evaluating country Estonia\n",
      "evaluating country Ethiopia\n",
      "evaluating country Fiji\n",
      "evaluating country Finland\n",
      "evaluating country France\n",
      "evaluating country Georgia\n",
      "evaluating country Ghana\n",
      "evaluating country Grenada\n",
      "evaluating country Guinea\n",
      "evaluating country Haiti\n",
      "evaluating country Honduras\n",
      "evaluating country Hungary\n",
      "evaluating country India\n",
      "evaluating country Indonesia\n",
      "evaluating country Ireland\n",
      "evaluating country Italy\n",
      "evaluating country Japan\n",
      "evaluating country Kenya\n",
      "evaluating country South Korea\n",
      "evaluating country Liberia\n",
      "evaluating country Malaysia\n",
      "evaluating country Mexico\n",
      "evaluating country Morocco\n",
      "evaluating country Nepal\n",
      "evaluating country New Zealand\n",
      "evaluating country Norway\n",
      "evaluating country Pakistan\n",
      "evaluating country Peru\n",
      "evaluating country Qatar\n",
      "evaluating country Russia\n",
      "evaluating country Singapore\n",
      "evaluating country South Africa\n",
      "evaluating country Spain\n",
      "evaluating country Sweden\n",
      "evaluating country Switzerland\n",
      "evaluating country Thailand\n",
      "evaluating country United Arab Emirates\n",
      "evaluating country United Kingdom\n",
      "evaluating country United States\n",
      "evaluating country Uruguay\n",
      "evaluating country Venezuela\n",
      "evaluating country Vietnam\n",
      "evaluating country Zimbabwe\n"
     ]
    }
   ],
   "source": [
    "#Use a for loop to print the required output\n",
    "for i, v in enumerate(countries):\n",
    "    print('evaluating country', v)"
   ]
  },
  {
   "cell_type": "markdown",
   "metadata": {},
   "source": [
    "#### 5: Print out the entire list of the countries with their GDPs"
   ]
  },
  {
   "cell_type": "code",
   "execution_count": 9,
   "metadata": {},
   "outputs": [
    {
     "name": "stdout",
     "output_type": "stream",
     "text": [
      "Countries:  Algeria \t GDP:  2255.225482\n",
      "Countries:  Angola \t GDP:  629.9553062\n",
      "Countries:  Argentina \t GDP:  11601.63022\n",
      "Countries:  Australia \t GDP:  25306.82494\n",
      "Countries:  Austria \t GDP:  27266.40335\n",
      "Countries:  Bahamas \t GDP:  19466.99052\n",
      "Countries:  Bangladesh \t GDP:  588.3691778\n",
      "Countries:  Belarus \t GDP:  2890.345675\n",
      "Countries:  Belgium \t GDP:  24733.62696\n",
      "Countries:  Bhutan \t GDP:  1445.760002\n",
      "Countries:  Brazil \t GDP:  4803.398244\n",
      "Countries:  Bulgaria \t GDP:  2618.876037\n",
      "Countries:  Cambodia \t GDP:  590.4521124\n",
      "Countries:  Cameroon \t GDP:  665.7982328\n",
      "Countries:  Chile \t GDP:  7122.938458\n",
      "Countries:  China \t GDP:  2639.54156\n",
      "Countries:  Colombia \t GDP:  3362.4656\n",
      "Countries:  Cyprus \t GDP:  15378.16704\n",
      "Countries:  Denmark \t GDP:  30860.12808\n",
      "Countries:  El Salvador \t GDP:  2579.115607\n",
      "Countries:  Estonia \t GDP:  6525.541272\n",
      "Countries:  Ethiopia \t GDP:  229.6769525\n",
      "Countries:  Fiji \t GDP:  2242.689259\n",
      "Countries:  Finland \t GDP:  27570.4852\n",
      "Countries:  France \t GDP:  23016.84778\n",
      "Countries:  Georgia \t GDP:  1334.646773\n",
      "Countries:  Ghana \t GDP:  402.6953275\n",
      "Countries:  Grenada \t GDP:  6047.200797\n",
      "Countries:  Guinea \t GDP:  394.1156638\n",
      "Countries:  Haiti \t GDP:  385.5793827\n",
      "Countries:  Honduras \t GDP:  1414.072488\n",
      "Countries:  Hungary \t GDP:  5745.981529\n",
      "Countries:  India \t GDP:  837.7464011\n",
      "Countries:  Indonesia \t GDP:  1206.991065\n",
      "Countries:  Ireland \t GDP:  27715.52837\n",
      "Countries:  Italy \t GDP:  18937.24998\n",
      "Countries:  Japan \t GDP:  39578.07441\n",
      "Countries:  Kenya \t GDP:  478.2194906\n",
      "Countries:  South Korea \t GDP:  16684.21278\n",
      "Countries:  Liberia \t GDP:  279.2204061\n",
      "Countries:  Malaysia \t GDP:  5345.213415\n",
      "Countries:  Mexico \t GDP:  6288.25324\n",
      "Countries:  Morocco \t GDP:  1908.304416\n",
      "Countries:  Nepal \t GDP:  274.8728621\n",
      "Countries:  New Zealand \t GDP:  14646.42094\n",
      "Countries:  Norway \t GDP:  40034.85063\n",
      "Countries:  Pakistan \t GDP:  672.1547506\n",
      "Countries:  Peru \t GDP:  3359.517402\n",
      "Countries:  Qatar \t GDP:  36152.66676\n",
      "Countries:  Russia \t GDP:  3054.727742\n",
      "Countries:  Singapore \t GDP:  33529.83052\n",
      "Countries:  South Africa \t GDP:  3825.093781\n",
      "Countries:  Spain \t GDP:  15428.32098\n",
      "Countries:  Sweden \t GDP:  33630.24604\n",
      "Countries:  Switzerland \t GDP:  39170.41371\n",
      "Countries:  Thailand \t GDP:  2699.123242\n",
      "Countries:  United Arab Emirates \t GDP:  21058.43643\n",
      "Countries:  United Kingdom \t GDP:  28272.40661\n",
      "Countries:  United States \t GDP:  37691.02733\n",
      "Countries:  Uruguay \t GDP:  9581.05659\n",
      "Countries:  Venezuela \t GDP:  5671.912202\n",
      "Countries:  Vietnam \t GDP:  757.4009286\n",
      "Countries:  Zimbabwe \t GDP:  347.7456605\n"
     ]
    }
   ],
   "source": [
    "#Use a for loop to print the required list\n",
    "for i, v in enumerate(countries):\n",
    "    print('Countries: ', v, '\\t GDP: ', GDP[i])"
   ]
  },
  {
   "cell_type": "markdown",
   "metadata": {},
   "source": [
    "#### 6: Print the following:\n",
    "1. Highest GPD value\n",
    "2. Lowest GDP value\n",
    "3. Mean GDP value\n",
    "4. Standardized GDP value\n",
    "5. Sum of all the GDPs"
   ]
  },
  {
   "cell_type": "code",
   "execution_count": 10,
   "metadata": {},
   "outputs": [
    {
     "name": "stdout",
     "output_type": "stream",
     "text": [
      "Highest GDP:  40034.85063\n",
      "Lowest GDP:  229.6769525\n",
      "Mean GDP:  11289.409271639683\n",
      "Standardized  GDP:  [-0.70890655 -0.83644045  0.02449978  1.09993753  1.25370438  0.6416895\n",
      " -0.83970368 -0.65906908  1.05495905 -0.77242478 -0.50895308 -0.68037113\n",
      " -0.83954024 -0.83362788 -0.32694027 -0.67874952 -0.62202214  0.32084217\n",
      "  1.53570163 -0.6834911  -0.37381764 -0.86785003 -0.70989026  1.27756548\n",
      "  0.9202445  -0.78114377 -0.85427339 -0.4113527  -0.85494663 -0.85561647\n",
      " -0.77491128 -0.43498918 -0.82013522 -0.79116083  1.28894693  0.60012111\n",
      "  2.21979323 -0.84834706  0.42332674 -0.86396239 -0.4664372  -0.39243747\n",
      " -0.73612922 -0.86430354  0.26342253  2.25563616 -0.83312909 -0.62225348\n",
      "  1.95100371 -0.64617013  1.74519145 -0.58572     0.32477772  1.75307099\n",
      "  2.18780436 -0.67407418  0.76656923  1.3326448   2.07171787 -0.13405333\n",
      " -0.44080136 -0.82643987 -0.85858526]\n",
      "Sum GDP:  711232.7841133\n"
     ]
    }
   ],
   "source": [
    "print('Highest GDP: ', GDP.max())\n",
    "print('Lowest GDP: ', GDP.min())\n",
    "print('Mean GDP: ', GDP.mean())\n",
    "print('Standardized  GDP: ', (GDP-GDP.mean())/GDP.std())\n",
    "print('Sum GDP: ', GDP.sum())"
   ]
  },
  {
   "cell_type": "code",
   "execution_count": 11,
   "metadata": {},
   "outputs": [
    {
     "data": {
      "text/plain": [
       "array([1, 2])"
      ]
     },
     "execution_count": 11,
     "metadata": {},
     "output_type": "execute_result"
    }
   ],
   "source": [
    "np.transpose(np.array([1,2]))"
   ]
  },
  {
   "cell_type": "code",
   "execution_count": 18,
   "metadata": {},
   "outputs": [
    {
     "data": {
      "text/plain": [
       "array([[1, 2]])"
      ]
     },
     "execution_count": 18,
     "metadata": {},
     "output_type": "execute_result"
    }
   ],
   "source": [
    "np.array([1,2]).reshape(1,2).T"
   ]
  }
 ],
 "metadata": {
  "kernelspec": {
   "display_name": "Python 3",
   "language": "python",
   "name": "python3"
  },
  "language_info": {
   "codemirror_mode": {
    "name": "ipython",
    "version": 3
   },
   "file_extension": ".py",
   "mimetype": "text/x-python",
   "name": "python",
   "nbconvert_exporter": "python",
   "pygments_lexer": "ipython3",
   "version": "3.7.1"
  }
 },
 "nbformat": 4,
 "nbformat_minor": 1
}
