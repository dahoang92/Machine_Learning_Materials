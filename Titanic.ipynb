{
 "cells": [
  {
   "cell_type": "markdown",
   "metadata": {},
   "source": [
    "# Titanic Machine Learning"
   ]
  },
  {
   "cell_type": "code",
   "execution_count": 1,
   "metadata": {},
   "outputs": [],
   "source": [
    "import pandas as pd\n",
    "import numpy as np"
   ]
  },
  {
   "cell_type": "code",
   "execution_count": 11,
   "metadata": {},
   "outputs": [],
   "source": [
    "train_data = pd.read_csv('train.csv', index_col='PassengerId')\n",
    "test_data = pd.read_csv('test.csv', index_col='PassengerId')"
   ]
  },
  {
   "cell_type": "code",
   "execution_count": 39,
   "metadata": {},
   "outputs": [
    {
     "data": {
      "text/html": [
       "<div>\n",
       "<style scoped>\n",
       "    .dataframe tbody tr th:only-of-type {\n",
       "        vertical-align: middle;\n",
       "    }\n",
       "\n",
       "    .dataframe tbody tr th {\n",
       "        vertical-align: top;\n",
       "    }\n",
       "\n",
       "    .dataframe thead th {\n",
       "        text-align: right;\n",
       "    }\n",
       "</style>\n",
       "<table border=\"1\" class=\"dataframe\">\n",
       "  <thead>\n",
       "    <tr style=\"text-align: right;\">\n",
       "      <th></th>\n",
       "      <th>Survived</th>\n",
       "      <th>Pclass</th>\n",
       "      <th>Name</th>\n",
       "      <th>Sex</th>\n",
       "      <th>Age</th>\n",
       "      <th>SibSp</th>\n",
       "      <th>Parch</th>\n",
       "      <th>Ticket</th>\n",
       "      <th>Fare</th>\n",
       "      <th>Cabin</th>\n",
       "      <th>Embarked</th>\n",
       "    </tr>\n",
       "    <tr>\n",
       "      <th>PassengerId</th>\n",
       "      <th></th>\n",
       "      <th></th>\n",
       "      <th></th>\n",
       "      <th></th>\n",
       "      <th></th>\n",
       "      <th></th>\n",
       "      <th></th>\n",
       "      <th></th>\n",
       "      <th></th>\n",
       "      <th></th>\n",
       "      <th></th>\n",
       "    </tr>\n",
       "  </thead>\n",
       "  <tbody>\n",
       "    <tr>\n",
       "      <td>1</td>\n",
       "      <td>0</td>\n",
       "      <td>3</td>\n",
       "      <td>Braund, Mr. Owen Harris</td>\n",
       "      <td>male</td>\n",
       "      <td>22.0</td>\n",
       "      <td>1</td>\n",
       "      <td>0</td>\n",
       "      <td>A/5 21171</td>\n",
       "      <td>7.2500</td>\n",
       "      <td>NaN</td>\n",
       "      <td>S</td>\n",
       "    </tr>\n",
       "    <tr>\n",
       "      <td>2</td>\n",
       "      <td>1</td>\n",
       "      <td>1</td>\n",
       "      <td>Cumings, Mrs. John Bradley (Florence Briggs Th...</td>\n",
       "      <td>female</td>\n",
       "      <td>38.0</td>\n",
       "      <td>1</td>\n",
       "      <td>0</td>\n",
       "      <td>PC 17599</td>\n",
       "      <td>71.2833</td>\n",
       "      <td>C85</td>\n",
       "      <td>C</td>\n",
       "    </tr>\n",
       "    <tr>\n",
       "      <td>3</td>\n",
       "      <td>1</td>\n",
       "      <td>3</td>\n",
       "      <td>Heikkinen, Miss. Laina</td>\n",
       "      <td>female</td>\n",
       "      <td>26.0</td>\n",
       "      <td>0</td>\n",
       "      <td>0</td>\n",
       "      <td>STON/O2. 3101282</td>\n",
       "      <td>7.9250</td>\n",
       "      <td>NaN</td>\n",
       "      <td>S</td>\n",
       "    </tr>\n",
       "    <tr>\n",
       "      <td>4</td>\n",
       "      <td>1</td>\n",
       "      <td>1</td>\n",
       "      <td>Futrelle, Mrs. Jacques Heath (Lily May Peel)</td>\n",
       "      <td>female</td>\n",
       "      <td>35.0</td>\n",
       "      <td>1</td>\n",
       "      <td>0</td>\n",
       "      <td>113803</td>\n",
       "      <td>53.1000</td>\n",
       "      <td>C123</td>\n",
       "      <td>S</td>\n",
       "    </tr>\n",
       "    <tr>\n",
       "      <td>5</td>\n",
       "      <td>0</td>\n",
       "      <td>3</td>\n",
       "      <td>Allen, Mr. William Henry</td>\n",
       "      <td>male</td>\n",
       "      <td>35.0</td>\n",
       "      <td>0</td>\n",
       "      <td>0</td>\n",
       "      <td>373450</td>\n",
       "      <td>8.0500</td>\n",
       "      <td>NaN</td>\n",
       "      <td>S</td>\n",
       "    </tr>\n",
       "    <tr>\n",
       "      <td>...</td>\n",
       "      <td>...</td>\n",
       "      <td>...</td>\n",
       "      <td>...</td>\n",
       "      <td>...</td>\n",
       "      <td>...</td>\n",
       "      <td>...</td>\n",
       "      <td>...</td>\n",
       "      <td>...</td>\n",
       "      <td>...</td>\n",
       "      <td>...</td>\n",
       "      <td>...</td>\n",
       "    </tr>\n",
       "    <tr>\n",
       "      <td>887</td>\n",
       "      <td>0</td>\n",
       "      <td>2</td>\n",
       "      <td>Montvila, Rev. Juozas</td>\n",
       "      <td>male</td>\n",
       "      <td>27.0</td>\n",
       "      <td>0</td>\n",
       "      <td>0</td>\n",
       "      <td>211536</td>\n",
       "      <td>13.0000</td>\n",
       "      <td>NaN</td>\n",
       "      <td>S</td>\n",
       "    </tr>\n",
       "    <tr>\n",
       "      <td>888</td>\n",
       "      <td>1</td>\n",
       "      <td>1</td>\n",
       "      <td>Graham, Miss. Margaret Edith</td>\n",
       "      <td>female</td>\n",
       "      <td>19.0</td>\n",
       "      <td>0</td>\n",
       "      <td>0</td>\n",
       "      <td>112053</td>\n",
       "      <td>30.0000</td>\n",
       "      <td>B42</td>\n",
       "      <td>S</td>\n",
       "    </tr>\n",
       "    <tr>\n",
       "      <td>889</td>\n",
       "      <td>0</td>\n",
       "      <td>3</td>\n",
       "      <td>Johnston, Miss. Catherine Helen \"Carrie\"</td>\n",
       "      <td>female</td>\n",
       "      <td>NaN</td>\n",
       "      <td>1</td>\n",
       "      <td>2</td>\n",
       "      <td>W./C. 6607</td>\n",
       "      <td>23.4500</td>\n",
       "      <td>NaN</td>\n",
       "      <td>S</td>\n",
       "    </tr>\n",
       "    <tr>\n",
       "      <td>890</td>\n",
       "      <td>1</td>\n",
       "      <td>1</td>\n",
       "      <td>Behr, Mr. Karl Howell</td>\n",
       "      <td>male</td>\n",
       "      <td>26.0</td>\n",
       "      <td>0</td>\n",
       "      <td>0</td>\n",
       "      <td>111369</td>\n",
       "      <td>30.0000</td>\n",
       "      <td>C148</td>\n",
       "      <td>C</td>\n",
       "    </tr>\n",
       "    <tr>\n",
       "      <td>891</td>\n",
       "      <td>0</td>\n",
       "      <td>3</td>\n",
       "      <td>Dooley, Mr. Patrick</td>\n",
       "      <td>male</td>\n",
       "      <td>32.0</td>\n",
       "      <td>0</td>\n",
       "      <td>0</td>\n",
       "      <td>370376</td>\n",
       "      <td>7.7500</td>\n",
       "      <td>NaN</td>\n",
       "      <td>Q</td>\n",
       "    </tr>\n",
       "  </tbody>\n",
       "</table>\n",
       "<p>891 rows × 11 columns</p>\n",
       "</div>"
      ],
      "text/plain": [
       "             Survived  Pclass  \\\n",
       "PassengerId                     \n",
       "1                   0       3   \n",
       "2                   1       1   \n",
       "3                   1       3   \n",
       "4                   1       1   \n",
       "5                   0       3   \n",
       "...               ...     ...   \n",
       "887                 0       2   \n",
       "888                 1       1   \n",
       "889                 0       3   \n",
       "890                 1       1   \n",
       "891                 0       3   \n",
       "\n",
       "                                                          Name     Sex   Age  \\\n",
       "PassengerId                                                                    \n",
       "1                                      Braund, Mr. Owen Harris    male  22.0   \n",
       "2            Cumings, Mrs. John Bradley (Florence Briggs Th...  female  38.0   \n",
       "3                                       Heikkinen, Miss. Laina  female  26.0   \n",
       "4                 Futrelle, Mrs. Jacques Heath (Lily May Peel)  female  35.0   \n",
       "5                                     Allen, Mr. William Henry    male  35.0   \n",
       "...                                                        ...     ...   ...   \n",
       "887                                      Montvila, Rev. Juozas    male  27.0   \n",
       "888                               Graham, Miss. Margaret Edith  female  19.0   \n",
       "889                   Johnston, Miss. Catherine Helen \"Carrie\"  female   NaN   \n",
       "890                                      Behr, Mr. Karl Howell    male  26.0   \n",
       "891                                        Dooley, Mr. Patrick    male  32.0   \n",
       "\n",
       "             SibSp  Parch            Ticket     Fare Cabin Embarked  \n",
       "PassengerId                                                          \n",
       "1                1      0         A/5 21171   7.2500   NaN        S  \n",
       "2                1      0          PC 17599  71.2833   C85        C  \n",
       "3                0      0  STON/O2. 3101282   7.9250   NaN        S  \n",
       "4                1      0            113803  53.1000  C123        S  \n",
       "5                0      0            373450   8.0500   NaN        S  \n",
       "...            ...    ...               ...      ...   ...      ...  \n",
       "887              0      0            211536  13.0000   NaN        S  \n",
       "888              0      0            112053  30.0000   B42        S  \n",
       "889              1      2        W./C. 6607  23.4500   NaN        S  \n",
       "890              0      0            111369  30.0000  C148        C  \n",
       "891              0      0            370376   7.7500   NaN        Q  \n",
       "\n",
       "[891 rows x 11 columns]"
      ]
     },
     "execution_count": 39,
     "metadata": {},
     "output_type": "execute_result"
    }
   ],
   "source": [
    "train_data"
   ]
  },
  {
   "cell_type": "code",
   "execution_count": 16,
   "metadata": {},
   "outputs": [
    {
     "data": {
      "text/html": [
       "<div>\n",
       "<style scoped>\n",
       "    .dataframe tbody tr th:only-of-type {\n",
       "        vertical-align: middle;\n",
       "    }\n",
       "\n",
       "    .dataframe tbody tr th {\n",
       "        vertical-align: top;\n",
       "    }\n",
       "\n",
       "    .dataframe thead th {\n",
       "        text-align: right;\n",
       "    }\n",
       "</style>\n",
       "<table border=\"1\" class=\"dataframe\">\n",
       "  <thead>\n",
       "    <tr style=\"text-align: right;\">\n",
       "      <th></th>\n",
       "      <th>Survived</th>\n",
       "      <th>Pclass</th>\n",
       "      <th>Name</th>\n",
       "      <th>Sex</th>\n",
       "      <th>Age</th>\n",
       "      <th>SibSp</th>\n",
       "      <th>Parch</th>\n",
       "      <th>Ticket</th>\n",
       "      <th>Fare</th>\n",
       "      <th>Cabin</th>\n",
       "      <th>Embarked</th>\n",
       "    </tr>\n",
       "    <tr>\n",
       "      <th>PassengerId</th>\n",
       "      <th></th>\n",
       "      <th></th>\n",
       "      <th></th>\n",
       "      <th></th>\n",
       "      <th></th>\n",
       "      <th></th>\n",
       "      <th></th>\n",
       "      <th></th>\n",
       "      <th></th>\n",
       "      <th></th>\n",
       "      <th></th>\n",
       "    </tr>\n",
       "  </thead>\n",
       "  <tbody>\n",
       "    <tr>\n",
       "      <td>767</td>\n",
       "      <td>0</td>\n",
       "      <td>1</td>\n",
       "      <td>Brewe, Dr. Arthur Jackson</td>\n",
       "      <td>male</td>\n",
       "      <td>NaN</td>\n",
       "      <td>0</td>\n",
       "      <td>0</td>\n",
       "      <td>112379</td>\n",
       "      <td>39.6</td>\n",
       "      <td>NaN</td>\n",
       "      <td>C</td>\n",
       "    </tr>\n",
       "  </tbody>\n",
       "</table>\n",
       "</div>"
      ],
      "text/plain": [
       "             Survived  Pclass                       Name   Sex  Age  SibSp  \\\n",
       "PassengerId                                                                  \n",
       "767                 0       1  Brewe, Dr. Arthur Jackson  male  NaN      0   \n",
       "\n",
       "             Parch  Ticket  Fare Cabin Embarked  \n",
       "PassengerId                                      \n",
       "767              0  112379  39.6   NaN        C  "
      ]
     },
     "execution_count": 16,
     "metadata": {},
     "output_type": "execute_result"
    }
   ],
   "source": [
    "# Treating Data\n",
    "train_data.loc[train_data.loc[:,'Name'].str.lower().str.contains('jack'),:]"
   ]
  },
  {
   "cell_type": "code",
   "execution_count": 17,
   "metadata": {},
   "outputs": [
    {
     "data": {
      "text/plain": [
       "Survived    891\n",
       "Pclass      891\n",
       "Name        891\n",
       "Sex         891\n",
       "Age         714\n",
       "SibSp       891\n",
       "Parch       891\n",
       "Ticket      891\n",
       "Fare        891\n",
       "Cabin       204\n",
       "Embarked    889\n",
       "dtype: int64"
      ]
     },
     "execution_count": 17,
     "metadata": {},
     "output_type": "execute_result"
    }
   ],
   "source": [
    "train_data.count()"
   ]
  },
  {
   "cell_type": "code",
   "execution_count": 40,
   "metadata": {},
   "outputs": [],
   "source": [
    "y = train_data.loc[:,'Survived'].values"
   ]
  },
  {
   "cell_type": "code",
   "execution_count": 63,
   "metadata": {},
   "outputs": [],
   "source": [
    "x_col = ['Sex','Pclass','Age','SibSp','Parch','Fare','Embarked']\n",
    "x_data = train_data.loc[:,x_col].copy()\n",
    "# Lấy giá trị xảy ra nhiều nhất của embarked\n",
    "most_freq_embarked = x_data.groupby('Embarked')['Sex'].count().idxmax()\n",
    "x_data.loc[:,'Embarked'] = x_data.loc[:,'Embarked'].fillna(most_freq_embarked)\n",
    "x_col = pd.get_dummies(x_data).drop(['Sex_male','Embarked_S'], axis=1).columns\n",
    "X = pd.get_dummies(x_data).drop(['Sex_male','Embarked_S'], axis=1).values"
   ]
  },
  {
   "cell_type": "code",
   "execution_count": 50,
   "metadata": {},
   "outputs": [],
   "source": [
    "# Chia train/test\n",
    "from sklearn.model_selection import train_test_split\n",
    "X_train, X_test, y_train, y_test = train_test_split(X, y, test_size=0.33, random_state=42, stratify=y)"
   ]
  },
  {
   "cell_type": "code",
   "execution_count": 51,
   "metadata": {},
   "outputs": [],
   "source": [
    "# Missing Value Imputations\n",
    "from sklearn.impute import SimpleImputer\n",
    "imputers = SimpleImputer(strategy = 'median')\n",
    "X_train = imputers.fit_transform(X_train)\n",
    "X_test = imputers.transform(X_test)"
   ]
  },
  {
   "cell_type": "code",
   "execution_count": 53,
   "metadata": {},
   "outputs": [],
   "source": [
    "# Feature Scaling\n",
    "from sklearn.preprocessing import StandardScaler\n",
    "scaler = StandardScaler()\n",
    "X_train_1 = scaler.fit_transform(X_train)\n",
    "X_test_1 = scaler.transform(X_test)"
   ]
  },
  {
   "cell_type": "code",
   "execution_count": 56,
   "metadata": {},
   "outputs": [
    {
     "data": {
      "text/plain": [
       "LogisticRegression(C=1.0, class_weight=None, dual=False, fit_intercept=True,\n",
       "                   intercept_scaling=1, l1_ratio=None, max_iter=100,\n",
       "                   multi_class='warn', n_jobs=None, penalty='l2',\n",
       "                   random_state=None, solver='liblinear', tol=0.0001, verbose=0,\n",
       "                   warm_start=False)"
      ]
     },
     "execution_count": 56,
     "metadata": {},
     "output_type": "execute_result"
    }
   ],
   "source": [
    "# Logistics Classification\n",
    "from sklearn.linear_model import LogisticRegression\n",
    "log_reg = LogisticRegression(C = 1.0, solver = 'liblinear')\n",
    "log_reg.fit(X_train_1, y_train)"
   ]
  },
  {
   "cell_type": "code",
   "execution_count": 65,
   "metadata": {},
   "outputs": [],
   "source": [
    "y_pred = log_reg.predict_proba(X_test_1)"
   ]
  },
  {
   "cell_type": "code",
   "execution_count": 64,
   "metadata": {},
   "outputs": [
    {
     "data": {
      "text/plain": [
       "Index(['Pclass', 'Age', 'SibSp', 'Parch', 'Fare', 'Sex_female', 'Embarked_C',\n",
       "       'Embarked_Q'],\n",
       "      dtype='object')"
      ]
     },
     "metadata": {},
     "output_type": "display_data"
    },
    {
     "data": {
      "text/plain": [
       "array([[-0.94922276, -0.58967727, -0.30448484, -0.0363225 ,  0.10468507,\n",
       "         1.2669141 ,  0.11781317,  0.17591533]])"
      ]
     },
     "metadata": {},
     "output_type": "display_data"
    }
   ],
   "source": [
    "display(x_col)\n",
    "display(log_reg.coef_)"
   ]
  },
  {
   "cell_type": "code",
   "execution_count": 79,
   "metadata": {},
   "outputs": [
    {
     "name": "stdout",
     "output_type": "stream",
     "text": [
      "Confusion Matrix: \n",
      " [[156  26]\n",
      " [ 31  82]]\n",
      "Accuracy Score:  0.8067796610169492\n"
     ]
    }
   ],
   "source": [
    "from sklearn.metrics import confusion_matrix\n",
    "cm = confusion_matrix(y_test, (y_pred[:,1]>0.5).astype('i8'))\n",
    "print('Confusion Matrix: \\n', cm)\n",
    "print('Accuracy Score: ', (cm[0,0] + cm[1,1])/cm.sum())"
   ]
  },
  {
   "cell_type": "code",
   "execution_count": 82,
   "metadata": {},
   "outputs": [
    {
     "data": {
      "text/plain": [
       "SVC(C=1.0, cache_size=200, class_weight=None, coef0=0.0,\n",
       "    decision_function_shape='ovr', degree=3, gamma='auto_deprecated',\n",
       "    kernel='rbf', max_iter=-1, probability=True, random_state=None,\n",
       "    shrinking=True, tol=0.001, verbose=False)"
      ]
     },
     "execution_count": 82,
     "metadata": {},
     "output_type": "execute_result"
    }
   ],
   "source": [
    "from sklearn.svm import SVC\n",
    "svmc = SVC(C = 1.0, probability=True)\n",
    "svmc.fit(X_train_1, y_train)"
   ]
  },
  {
   "cell_type": "code",
   "execution_count": 83,
   "metadata": {},
   "outputs": [],
   "source": [
    "y_pred = svmc.predict_proba(X_test_1)"
   ]
  },
  {
   "cell_type": "code",
   "execution_count": 84,
   "metadata": {},
   "outputs": [
    {
     "name": "stdout",
     "output_type": "stream",
     "text": [
      "Confusion Matrix: \n",
      " [[165  17]\n",
      " [ 37  76]]\n",
      "Accuracy Score:  0.8169491525423729\n"
     ]
    }
   ],
   "source": [
    "cm = confusion_matrix(y_test, (y_pred[:,1]>0.5).astype('i8'))\n",
    "print('Confusion Matrix: \\n', cm)\n",
    "print('Accuracy Score: ', (cm[0,0] + cm[1,1])/cm.sum())"
   ]
  },
  {
   "cell_type": "code",
   "execution_count": 96,
   "metadata": {},
   "outputs": [
    {
     "data": {
      "text/plain": [
       "DecisionTreeClassifier(class_weight=None, criterion='gini', max_depth=3,\n",
       "                       max_features=None, max_leaf_nodes=None,\n",
       "                       min_impurity_decrease=0.0, min_impurity_split=None,\n",
       "                       min_samples_leaf=10, min_samples_split=2,\n",
       "                       min_weight_fraction_leaf=0.0, presort=False,\n",
       "                       random_state=None, splitter='best')"
      ]
     },
     "execution_count": 96,
     "metadata": {},
     "output_type": "execute_result"
    }
   ],
   "source": [
    "from sklearn import tree\n",
    "\n",
    "da_tree = tree.DecisionTreeClassifier(max_depth=3, min_samples_leaf=10 )\n",
    "da_tree.fit(X_train, y_train)"
   ]
  },
  {
   "cell_type": "code",
   "execution_count": 105,
   "metadata": {},
   "outputs": [
    {
     "name": "stdout",
     "output_type": "stream",
     "text": [
      "BEST {'max_depth': 4, 'min_samples_leaf': 5} 0.8087248322147651\n"
     ]
    }
   ],
   "source": [
    "from sklearn.model_selection import GridSearchCV\n",
    "classifier = tree.DecisionTreeClassifier() \n",
    "parameters = {\"max_depth\": [1,2,3,4], 'min_samples_leaf': [(e+1)*5 for e in range(5)] }\n",
    "gs = GridSearchCV(classifier, param_grid=parameters, cv=3, n_jobs=3, scoring='f1_micro')\n",
    "gs.fit(X_train, y_train)\n",
    "print (\"BEST\", gs.best_params_, gs.best_score_)\n",
    "clsf = gs.best_estimator_"
   ]
  },
  {
   "cell_type": "code",
   "execution_count": 106,
   "metadata": {},
   "outputs": [
    {
     "name": "stdout",
     "output_type": "stream",
     "text": [
      "Confusion Matrix: \n",
      " [[169  13]\n",
      " [ 49  64]]\n",
      "Accuracy Score:  0.7898305084745763\n"
     ]
    }
   ],
   "source": [
    "y_pred = clsf.predict_proba(X_test)\n",
    "cm = confusion_matrix(y_test, (y_pred[:,1]>0.5).astype('i8'))\n",
    "print('Confusion Matrix: \\n', cm)\n",
    "print('Accuracy Score: ', (cm[0,0] + cm[1,1])/cm.sum())"
   ]
  },
  {
   "cell_type": "code",
   "execution_count": 90,
   "metadata": {},
   "outputs": [],
   "source": [
    "import graphviz\n",
    "def print_tree(clsf, file_name, class_name =[0,1],  feature_cols = None):\n",
    "    dot_data = tree.export_graphviz(clsf, out_file=None, feature_names = feature_cols, class_names = class_name)\n",
    "    graph = graphviz.Source(dot_data)\n",
    "    graph.render(file_name)\n"
   ]
  },
  {
   "cell_type": "code",
   "execution_count": 107,
   "metadata": {},
   "outputs": [],
   "source": [
    "print_tree(clsf, './tree2', ['J','R'],feature_cols =x_col)"
   ]
  },
  {
   "cell_type": "code",
   "execution_count": 100,
   "metadata": {},
   "outputs": [
    {
     "data": {
      "text/plain": [
       "array([ 1.  , 36.  , 12.  , 49.  , 33.  , 30.  , 30.  , 29.  , 22.  ,\n",
       "       34.  , 29.  , 52.  , 29.  , 19.  , 29.  , 19.  , 22.  , 29.  ,\n",
       "       29.  , 26.  , 29.  , 29.  , 33.  ,  4.  , 24.  , 47.  , 40.  ,\n",
       "       29.  , 32.5 , 32.  , 19.  , 16.  ,  1.  , 50.  , 36.  , 44.  ,\n",
       "       31.  , 19.  , 29.  , 29.  , 55.  , 22.  , 60.  , 22.  , 39.  ,\n",
       "       51.  ,  1.  , 18.  ,  4.  ,  6.  , 59.  , 20.  , 17.  , 43.  ,\n",
       "        7.  , 48.  , 24.  , 42.  , 19.  , 17.  , 20.  , 10.  , 21.  ,\n",
       "       71.  , 18.  , 26.  , 26.  , 71.  , 15.  , 24.  , 33.  , 40.  ,\n",
       "       29.  , 32.  , 30.5 , 29.  , 16.  , 29.  , 23.  , 22.  , 23.  ,\n",
       "       30.  , 22.  , 48.  , 21.  , 29.  ,  3.  , 17.  , 54.  , 28.  ,\n",
       "       29.  , 13.  , 17.  , 19.  , 30.  , 29.  , 26.  , 36.  ,  4.  ,\n",
       "       24.  , 25.  , 38.  ,  6.  , 24.  , 22.  , 29.  , 29.  , 21.  ,\n",
       "       29.  , 44.  ,  5.  , 24.  , 38.  , 35.  , 47.  , 29.  , 42.  ,\n",
       "       16.  , 31.  , 25.  , 57.  ,  0.75, 19.  , 31.  , 18.  , 18.  ,\n",
       "       24.  , 61.  , 54.  , 29.  , 29.  , 29.  , 59.  , 29.  , 35.  ,\n",
       "       29.  , 32.  , 16.  , 29.  , 29.  , 24.  , 29.  , 28.  , 29.  ,\n",
       "        5.  , 29.  , 28.  , 22.  , 29.  , 38.  , 21.  , 45.  , 24.  ,\n",
       "       29.  ,  0.83, 29.  , 19.  , 52.  , 35.  , 29.  , 33.  , 29.  ,\n",
       "       26.  , 22.  , 66.  , 36.  , 31.  , 74.  , 51.  , 18.  , 42.  ,\n",
       "       14.  , 29.  , 29.  , 38.  , 22.  , 51.  , 29.  , 41.  , 34.  ,\n",
       "       35.  , 29.  , 42.  , 23.  , 27.  , 36.  , 29.  , 28.  , 29.  ,\n",
       "       30.  , 30.  , 64.  , 29.  , 35.  , 29.  , 28.  , 63.  , 29.  ,\n",
       "       35.  , 23.  , 29.  , 29.  , 40.  ,  2.  , 29.  , 29.  , 51.  ,\n",
       "       39.  , 47.  , 25.  , 41.  , 30.  , 29.  , 29.  , 23.  , 21.  ,\n",
       "       19.  , 29.  , 65.  , 41.  , 45.  , 39.  , 18.  , 32.  , 38.  ,\n",
       "       54.  , 29.  , 47.  , 43.  , 21.  , 29.  , 26.  , 29.  , 39.  ,\n",
       "       39.  , 36.  , 50.  , 30.  , 29.  , 47.  ,  8.  , 16.  , 29.  ,\n",
       "       50.  , 30.  ,  3.  , 30.  , 31.  , 29.  ,  0.83, 32.  , 45.5 ,\n",
       "       32.  , 29.  , 18.  , 30.  , 31.  ,  8.  , 56.  , 31.  , 21.  ,\n",
       "       16.  , 29.  , 51.  , 14.5 , 29.  , 29.  , 42.  , 30.  ,  4.  ,\n",
       "       50.  , 20.  , 29.  , 29.  , 35.  ,  7.  , 21.  , 13.  , 26.  ,\n",
       "       45.  , 33.  , 24.  , 21.  , 26.  , 48.  , 29.  , 39.  , 28.  ,\n",
       "       37.  ,  3.  , 29.  , 38.  , 25.  , 54.  , 28.  , 48.  , 14.  ,\n",
       "       17.  , 51.  , 21.  , 29.  , 40.  , 26.  , 61.  , 22.  , 29.  ,\n",
       "       29.  , 43.  , 28.  , 34.  , 41.  , 28.5 , 29.  , 35.  , 36.  ,\n",
       "       29.  , 40.5 , 24.  , 41.  , 19.  , 29.  , 29.  , 17.  , 15.  ,\n",
       "       18.  , 29.  , 29.  , 17.  , 24.  ,  6.  , 21.  , 31.  , 34.  ,\n",
       "       20.  , 22.  , 23.  , 29.  , 29.  ,  0.67, 54.  , 20.  , 45.  ,\n",
       "       39.  , 28.  ,  1.  , 29.  ,  0.92, 29.  , 20.5 ,  0.42, 29.  ,\n",
       "       29.  , 43.  , 22.  , 22.  , 39.  , 52.  , 54.  , 37.  , 21.  ,\n",
       "       23.  , 22.  , 24.  , 44.  , 22.  , 70.  , 29.  , 32.  , 16.  ,\n",
       "       29.  , 42.  , 24.  , 26.  , 45.  , 21.  , 35.  , 42.  , 29.  ,\n",
       "       32.  , 45.  , 33.  , 51.  , 32.  , 28.  , 25.  , 24.  , 37.  ,\n",
       "       23.  , 32.  , 24.  , 27.  , 24.  , 29.  , 38.  , 42.  ,  8.  ,\n",
       "       29.  , 18.  , 29.  , 49.  , 30.  , 29.  , 29.  , 48.  , 27.  ,\n",
       "       29.  , 58.  , 58.  , 22.  , 29.  , 11.  , 48.  , 15.  , 31.  ,\n",
       "       29.  , 22.  , 29.  , 36.  , 29.  , 30.  , 65.  , 16.  , 62.  ,\n",
       "       19.  ,  4.  , 28.  , 32.  , 46.  , 20.  , 24.  , 27.  , 35.  ,\n",
       "       44.  , 49.  , 40.  , 29.  , 21.  , 19.  , 22.  , 29.  , 20.  ,\n",
       "       47.  , 34.  , 39.  , 25.  , 18.  , 65.  , 29.  , 19.  , 39.  ,\n",
       "       32.  , 29.  , 29.  , 40.  , 24.  , 22.  , 29.  , 36.  , 26.  ,\n",
       "       18.  , 28.  , 34.  , 29.  , 36.  , 28.  , 19.  , 29.  , 17.  ,\n",
       "       36.  , 57.  , 29.  , 21.  , 26.  , 29.  , 36.  , 29.  , 28.  ,\n",
       "       19.  ,  9.  , 27.  , 32.  , 19.  , 29.  , 19.  ,  1.  , 29.  ,\n",
       "       45.  , 18.  , 58.  , 26.  , 29.  , 34.  ,  1.  , 27.  , 52.  ,\n",
       "       18.  , 29.  , 29.  , 30.  , 33.  , 18.  ,  4.  , 22.  , 29.  ,\n",
       "       32.  , 36.  , 29.  , 29.  , 34.  , 42.  , 24.  , 30.  , 29.  ,\n",
       "       23.  , 29.  , 35.  , 29.  , 44.  , 36.  , 29.  , 29.  , 49.  ,\n",
       "       16.  , 36.  , 38.  , 26.  , 29.  , 40.  , 28.  , 29.  , 33.  ,\n",
       "       18.  ,  9.  , 36.  , 18.  , 25.  , 32.5 ,  9.  , 18.  , 22.  ,\n",
       "       22.  , 45.  , 20.  , 32.  , 35.  , 30.  , 29.  , 29.  , 39.  ,\n",
       "        5.  , 22.  , 20.  ,  5.  , 40.  , 32.  ,  4.  , 27.  , 28.  ,\n",
       "       29.  , 21.  , 23.  , 40.  , 31.  , 40.  , 28.  , 19.  , 29.  ,\n",
       "       38.  , 80.  , 70.5 ,  3.  , 17.  , 19.  , 25.  , 25.  , 42.  ,\n",
       "       21.  , 29.  ,  2.  ,  3.  , 45.  , 29.  , 37.  , 33.  , 29.  ,\n",
       "       32.  , 49.  , 37.  , 50.  , 50.  , 29.  , 34.  , 50.  , 48.  ,\n",
       "       47.  , 29.  ])"
      ]
     },
     "execution_count": 100,
     "metadata": {},
     "output_type": "execute_result"
    }
   ],
   "source": [
    "X_train[:,1]"
   ]
  }
 ],
 "metadata": {
  "kernelspec": {
   "display_name": "Python 3",
   "language": "python",
   "name": "python3"
  },
  "language_info": {
   "codemirror_mode": {
    "name": "ipython",
    "version": 3
   },
   "file_extension": ".py",
   "mimetype": "text/x-python",
   "name": "python",
   "nbconvert_exporter": "python",
   "pygments_lexer": "ipython3",
   "version": "3.7.3"
  }
 },
 "nbformat": 4,
 "nbformat_minor": 4
}
